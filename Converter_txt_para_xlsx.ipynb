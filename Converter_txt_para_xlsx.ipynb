{
  "cells": [
    {
      "cell_type": "code",
      "execution_count": null,
      "id": "96f3e951-8732-4e36-b53c-8a05840a40c5",
      "metadata": {
        "id": "96f3e951-8732-4e36-b53c-8a05840a40c5"
      },
      "outputs": [],
      "source": [
        "import pandas as pd\n",
        "import numpy as np\n",
        "\n",
        "# Lendo arquivo TXT inicial e separando em duas tabelas de acordo com o número de registro\n",
        "with open('Censo_2023_Aluno.txt', 'r') as txtfile:\n",
        "    # Ignorando a primeira linha do arquivo TXT\n",
        "    reader = txtfile.readlines()[1:]\n",
        "\n",
        "    # Inicializando listas para armazenar linhas de 41 e 42\n",
        "    linhas_41 = []\n",
        "    linhas_42 = []\n",
        "\n",
        "    # Iterando sobre as linhas do arquivo TXT\n",
        "    for line in reader:\n",
        "        line = line.strip().split('|')\n",
        "\n",
        "        # Verificando se a linha começa com '41' ou '42' e adicionando à lista correspondente\n",
        "        if line[0] == '41':\n",
        "            linhas_41.append(line)\n",
        "        elif line[0] == '42':\n",
        "            linhas_42.append(line)\n",
        "\n",
        "# Convertendo listas em DataFrames\n",
        "df_censo41 = pd.DataFrame(linhas_41)\n",
        "df_censo42 = pd.DataFrame(linhas_42)\n",
        "\n",
        "# Encontrar linhas duplicadas com base na coluna: identificação única do aluno na IES\n",
        "linhas_duplicadas = df_censo42[df_censo42.duplicated(1, keep=False)]\n",
        "\n",
        "# Concatenando os DataFrames ao longo do eixo das colunas\n",
        "df_combinado = pd.concat([df_censo41, df_censo42], axis=1)\n",
        "\n",
        "nomes_colunas = ['Tipo de registro', 'ID do aluno no Inep', 'Nome', 'CPF', 'Documento de estrangeiro ou passaporte',\n",
        "                   'Data de nascimento', 'Cor/raça', 'Nacionalidade', 'UF de nascimento', 'Município de nascimento',\n",
        "                   'País de origem', 'Aluno com deficiência, transtorno do espectro autista (TEA), altas habilidades ou superdotação',\n",
        "                   'Tipo de deficiência – cegueira',  'Tipo de deficiência – baixa visão e visão monocular', 'Tipo de deficiência – surdez',\n",
        "                   'Tipo de deficiência – deficiência auditiva', 'Tipo de deficiência – deficiência física',\n",
        "                   'Tipo de deficiência – surdocegueira', 'Tipo de deficiência – intelectual', 'Tipo de deficiência - Transtorno do espectro autista (TEA)',\n",
        "                   'Tipo de deficiência – altas habilidades ou superdotação', 'Tipo de escola que concluiu o Ensino Médio',\n",
        "                   'Tipo de registro', 'ID na IES', 'Período de referência', 'Código do curso', 'Código do polo do curso a distância',\n",
        "                   'Turno do aluno', 'Situação de vínculo do aluno ao curso', 'Curso origem', 'Semestre de conclusão do curso',\n",
        "                   'Aluno Parfor', 'Segunda Licenciatura / Formação pedagógica', 'Tipo - Segunda Licenciatura / Formação pedagógica',\n",
        "                   'Semestre de ingresso no curso', 'Forma de ingresso/seleção – vestibular', 'Forma de ingresso/seleção – Enem',\n",
        "                   'Forma de ingresso/seleção – avaliação seriada', 'Forma de ingresso/seleção – seleção simplificada', 'Forma de ingresso/seleção – Egresso BI/LI',\n",
        "                   'Forma de ingresso/seleção – PEC-G', 'Forma de ingresso/seleção – transferência ex officio', 'Forma de ingresso/seleção – decisão judicial',\n",
        "                   'Forma de ingresso – seleção para vagas remanescentes', 'Forma de ingresso – seleção para vagas de programas especiais',\n",
        "                   'Mobilidade acadêmica', 'Tipo de mobilidade acadêmica', 'IES destino', 'País destino', 'Programa de reserva de vagas',\n",
        "                   'Programa de reserva de vagas/ações afirmativas – étnico', 'Programa de reserva de vagas/ações afirmativas – pessoa com deficiência',\n",
        "                   'Programa de reserva de vagas – estudante procedente de escola pública', 'Programa de reserva de vagas/ações afirmativas – social/renda familiar',\n",
        "                   'Programa de reserva de vagas/ações afirmativas – outros', 'Financiamento estudantil', 'Financiamento estudantil reembolsável – Fies',\n",
        "                   'Financiamento estudantil reembolsável – governo estadual', 'Financiamento estudantil reembolsável – governo municipal', 'Financiamento estudantil reembolsável – IES',\n",
        "                   'Financiamento estudantil reembolsável – entidades externas', 'Tipo de financiamento não reembolsável – ProUni integral',\n",
        "                   'Tipo de financiamento não reembolsável – ProUni parcial', 'Tipo de financiamento não reembolsável – entidades externas',\n",
        "                   'Tipo de financiamento não reembolsável – governo estadual', 'Tipo de financiamento não reembolsável – IES',\n",
        "                   'Tipo de financiamento não reembolsável – governo municipal', 'Apoio social', 'Tipo de apoio social – alimentação',\n",
        "                   'Tipo de apoio social – moradia', 'Tipo de apoio social – transporte', 'Tipo de apoio social – material didático',\n",
        "                   'Tipo de apoio social – bolsa trabalho', 'Tipo de apoio social – bolsa permanência', 'Atividade extracurricular', 'Atividade extracurricular – pesquisa',\n",
        "                   'Bolsa/remuneração referente à atividade extracurricular – pesquisa', 'Atividade extracurricular – extensão', 'Bolsa/remuneração referente à atividade extracurricular – extensão',\n",
        "                   'Atividade extracurricular – monitoria', 'Bolsa/remuneração referente à atividade extracurricular – monitoria',\n",
        "                   'Atividade extracurricular – estágio não obrigatório', 'Bolsa/remuneração referente à atividade extracurricular – estágio não obrigatório',\n",
        "                   'Carga horária total do curso por aluno', 'Carga horária integralizada pelo aluno', 'Justificativa']\n",
        "\n",
        "# Escrevendo em um arquivo Excel\n",
        "with pd.ExcelWriter('censo_alunos.xlsx') as writer:\n",
        "    df_combinado.to_excel(writer, index=False, header=nomes_colunas)"
      ]
    }
  ],
  "metadata": {
    "kernelspec": {
      "display_name": "Python 3 (ipykernel)",
      "language": "python",
      "name": "python3"
    },
    "language_info": {
      "codemirror_mode": {
        "name": "ipython",
        "version": 3
      },
      "file_extension": ".py",
      "mimetype": "text/x-python",
      "name": "python",
      "nbconvert_exporter": "python",
      "pygments_lexer": "ipython3",
      "version": "3.11.7"
    },
    "colab": {
      "provenance": []
    }
  },
  "nbformat": 4,
  "nbformat_minor": 5
}