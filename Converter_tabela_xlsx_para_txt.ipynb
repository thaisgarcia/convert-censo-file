{
  "cells": [
    {
      "cell_type": "code",
      "execution_count": null,
      "id": "39bc72e8-5406-479b-a10e-7c2080455c89",
      "metadata": {
        "id": "39bc72e8-5406-479b-a10e-7c2080455c89"
      },
      "outputs": [],
      "source": [
        "import pandas as pd\n",
        "\n",
        "# Lendo o arquivo Excel\n",
        "df = pd.read_excel('censo_alunos.xlsx')\n",
        "\n",
        "# Escrevendo em um novo arquivo de texto\n",
        "with open('censo_alunos_atualizado.txt', 'w') as txtfile:\n",
        "    # Lendo a primeira linha do arquivo de texto original\n",
        "    with open('Censo_2023_Aluno.txt', 'r') as oldfile:\n",
        "        first_line = oldfile.readline().strip()\n",
        "        txtfile.write(first_line)\n",
        "\n",
        "    # Iterando sobre as linhas do DataFrame\n",
        "    for _, row in df.iterrows():\n",
        "        # Verificando se o valor 42 está presente em alguma coluna da linha\n",
        "        if 42 in row.values:\n",
        "            txtfile.write('\\n')  # Pula uma linha antes de inserir o registro 42\n",
        "\n",
        "        # Escrevendo a parte inicial da linha no arquivo de texto\n",
        "        row_initial = row.iloc[:22].fillna('').astype(str)\n",
        "        row_initial.replace('   ', '', inplace=True)\n",
        "\n",
        "        #Converter dados float para int\n",
        "        row_initial = row_initial.apply(lambda x: int(float(x)) if str(x).replace('.', '').isdigit() else x)\n",
        "        row_initial = row_initial.astype(str)\n",
        "        row_initial_str = '|'.join(row_initial)\n",
        "        txtfile.write(row_initial_str + '\\n')\n",
        "\n",
        "        # Escrevendo as colunas da posição 22 em diante na linha seguinte\n",
        "        row_after_22 = row.iloc[22:].fillna('').astype(str)\n",
        "        row_after_22.replace('   ', '', inplace=True)\n",
        "\n",
        "        #Converter dados float para int\n",
        "        row_after_22 = row_after_22.apply(lambda x: int(float(x)) if str(x).replace('.', '').isdigit() else x)\n",
        "        row_after_22 = row_after_22.astype(str)\n",
        "        row_after_22_str = '|'.join(row_after_22)\n",
        "        txtfile.write(row_after_22_str)"
      ]
    }
  ],
  "metadata": {
    "kernelspec": {
      "display_name": "Python 3 (ipykernel)",
      "language": "python",
      "name": "python3"
    },
    "language_info": {
      "codemirror_mode": {
        "name": "ipython",
        "version": 3
      },
      "file_extension": ".py",
      "mimetype": "text/x-python",
      "name": "python",
      "nbconvert_exporter": "python",
      "pygments_lexer": "ipython3",
      "version": "3.11.7"
    },
    "colab": {
      "provenance": []
    }
  },
  "nbformat": 4,
  "nbformat_minor": 5
}